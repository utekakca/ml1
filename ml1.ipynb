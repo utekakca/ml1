{
 "cells": [
  {
   "cell_type": "markdown",
   "metadata": {},
   "source": [
    "# Regression analysis of Boston Housing dataset"
   ]
  },
  {
   "cell_type": "markdown",
   "metadata": {},
   "source": [
    "## Import libraries"
   ]
  },
  {
   "cell_type": "code",
   "execution_count": 8,
   "metadata": {},
   "outputs": [],
   "source": [
    "import sklearn, pandas_profiling\n",
    "import pandas as pd\n",
    "from sklearn import datasets"
   ]
  },
  {
   "cell_type": "markdown",
   "metadata": {},
   "source": [
    "## Import data"
   ]
  },
  {
   "cell_type": "code",
   "execution_count": 9,
   "metadata": {},
   "outputs": [],
   "source": [
    "df = datasets.load_boston()\n",
    "pred = pd.DataFrame(df.data, columns=df.feature_names)\n",
    "targ = pd.DataFrame(df.target, columns=['MEDV'])\n",
    "df = pd.merge(pred, targ, left_on=pred.index, right_on=targ.index)\n",
    "df.drop(columns = ['key_0'], inplace=True)"
   ]
  },
  {
   "cell_type": "markdown",
   "metadata": {},
   "source": [
    "## Explore data"
   ]
  },
  {
   "cell_type": "code",
   "execution_count": 10,
   "metadata": {},
   "outputs": [
    {
     "data": {
      "text/html": [
       "<div>\n",
       "<style scoped>\n",
       "    .dataframe tbody tr th:only-of-type {\n",
       "        vertical-align: middle;\n",
       "    }\n",
       "\n",
       "    .dataframe tbody tr th {\n",
       "        vertical-align: top;\n",
       "    }\n",
       "\n",
       "    .dataframe thead th {\n",
       "        text-align: right;\n",
       "    }\n",
       "</style>\n",
       "<table border=\"1\" class=\"dataframe\">\n",
       "  <thead>\n",
       "    <tr style=\"text-align: right;\">\n",
       "      <th></th>\n",
       "      <th>CRIM</th>\n",
       "      <th>ZN</th>\n",
       "      <th>INDUS</th>\n",
       "      <th>CHAS</th>\n",
       "      <th>NOX</th>\n",
       "      <th>RM</th>\n",
       "      <th>AGE</th>\n",
       "      <th>DIS</th>\n",
       "      <th>RAD</th>\n",
       "      <th>TAX</th>\n",
       "      <th>PTRATIO</th>\n",
       "      <th>B</th>\n",
       "      <th>LSTAT</th>\n",
       "      <th>MEDV</th>\n",
       "    </tr>\n",
       "  </thead>\n",
       "  <tbody>\n",
       "    <tr>\n",
       "      <th>0</th>\n",
       "      <td>0.00632</td>\n",
       "      <td>18.0</td>\n",
       "      <td>2.31</td>\n",
       "      <td>0.0</td>\n",
       "      <td>0.538</td>\n",
       "      <td>6.575</td>\n",
       "      <td>65.2</td>\n",
       "      <td>4.0900</td>\n",
       "      <td>1.0</td>\n",
       "      <td>296.0</td>\n",
       "      <td>15.3</td>\n",
       "      <td>396.90</td>\n",
       "      <td>4.98</td>\n",
       "      <td>24.0</td>\n",
       "    </tr>\n",
       "    <tr>\n",
       "      <th>1</th>\n",
       "      <td>0.02731</td>\n",
       "      <td>0.0</td>\n",
       "      <td>7.07</td>\n",
       "      <td>0.0</td>\n",
       "      <td>0.469</td>\n",
       "      <td>6.421</td>\n",
       "      <td>78.9</td>\n",
       "      <td>4.9671</td>\n",
       "      <td>2.0</td>\n",
       "      <td>242.0</td>\n",
       "      <td>17.8</td>\n",
       "      <td>396.90</td>\n",
       "      <td>9.14</td>\n",
       "      <td>21.6</td>\n",
       "    </tr>\n",
       "    <tr>\n",
       "      <th>2</th>\n",
       "      <td>0.02729</td>\n",
       "      <td>0.0</td>\n",
       "      <td>7.07</td>\n",
       "      <td>0.0</td>\n",
       "      <td>0.469</td>\n",
       "      <td>7.185</td>\n",
       "      <td>61.1</td>\n",
       "      <td>4.9671</td>\n",
       "      <td>2.0</td>\n",
       "      <td>242.0</td>\n",
       "      <td>17.8</td>\n",
       "      <td>392.83</td>\n",
       "      <td>4.03</td>\n",
       "      <td>34.7</td>\n",
       "    </tr>\n",
       "    <tr>\n",
       "      <th>3</th>\n",
       "      <td>0.03237</td>\n",
       "      <td>0.0</td>\n",
       "      <td>2.18</td>\n",
       "      <td>0.0</td>\n",
       "      <td>0.458</td>\n",
       "      <td>6.998</td>\n",
       "      <td>45.8</td>\n",
       "      <td>6.0622</td>\n",
       "      <td>3.0</td>\n",
       "      <td>222.0</td>\n",
       "      <td>18.7</td>\n",
       "      <td>394.63</td>\n",
       "      <td>2.94</td>\n",
       "      <td>33.4</td>\n",
       "    </tr>\n",
       "    <tr>\n",
       "      <th>4</th>\n",
       "      <td>0.06905</td>\n",
       "      <td>0.0</td>\n",
       "      <td>2.18</td>\n",
       "      <td>0.0</td>\n",
       "      <td>0.458</td>\n",
       "      <td>7.147</td>\n",
       "      <td>54.2</td>\n",
       "      <td>6.0622</td>\n",
       "      <td>3.0</td>\n",
       "      <td>222.0</td>\n",
       "      <td>18.7</td>\n",
       "      <td>396.90</td>\n",
       "      <td>5.33</td>\n",
       "      <td>36.2</td>\n",
       "    </tr>\n",
       "  </tbody>\n",
       "</table>\n",
       "</div>"
      ],
      "text/plain": [
       "      CRIM    ZN  INDUS  CHAS    NOX     RM   AGE     DIS  RAD    TAX  \\\n",
       "0  0.00632  18.0   2.31   0.0  0.538  6.575  65.2  4.0900  1.0  296.0   \n",
       "1  0.02731   0.0   7.07   0.0  0.469  6.421  78.9  4.9671  2.0  242.0   \n",
       "2  0.02729   0.0   7.07   0.0  0.469  7.185  61.1  4.9671  2.0  242.0   \n",
       "3  0.03237   0.0   2.18   0.0  0.458  6.998  45.8  6.0622  3.0  222.0   \n",
       "4  0.06905   0.0   2.18   0.0  0.458  7.147  54.2  6.0622  3.0  222.0   \n",
       "\n",
       "   PTRATIO       B  LSTAT  MEDV  \n",
       "0     15.3  396.90   4.98  24.0  \n",
       "1     17.8  396.90   9.14  21.6  \n",
       "2     17.8  392.83   4.03  34.7  \n",
       "3     18.7  394.63   2.94  33.4  \n",
       "4     18.7  396.90   5.33  36.2  "
      ]
     },
     "execution_count": 10,
     "metadata": {},
     "output_type": "execute_result"
    }
   ],
   "source": [
    "df.head()"
   ]
  },
  {
   "cell_type": "markdown",
   "metadata": {},
   "source": [
    "Attribute information:\n",
    "\n",
    "     - CRIM     (Per capita crime rate by town)   \n",
    "                Since CRIM gauges the threat to well-being that households perceive in various neighborhoods of the \n",
    "                Boston metropolitan area, assuming that crime rates are generally proportional to people’s perceptions \n",
    "                of danger, it should have a negative effect on housing values.\n",
    "     - ZN       (Proportion of residential land zoned for lots over 25,000 sq.ft.)\n",
    "                Since such zoning restricts construction of small lot houses, we expect ZN to be positively related \n",
    "                to housing values. A positive coefficient may also arise because zoning proxies the exclusivity,\n",
    "                social class, and outdoor amenities of a community.\n",
    "     - INDUS    (Proportion of non-retail business acres per town)\n",
    "                INDUS serves as a proxy for the externalities associated with industry noise, heavy traffic, \n",
    "                and unpleasant visual effects, and thus should affect housing values negatively.\n",
    "     - CHAS     (Charles River dummy variable = 1 if tract bounds river; 0 otherwise)\n",
    "                CHAS captures the amenities of a riverside location and thus the coeficient should be positive.\n",
    "     - NOX      (Nitric oxides concentration parts per 10 million)\n",
    "                Nitrogen oxide concentrations in pphm (annual average concentration in parts per hundred million)\n",
    "     - RM       (Average number of rooms per dwelling)\n",
    "                RM represents spaciousness and, in a certain sense, quantity of housing. It should be positively \n",
    "                related to housing value. The RM^2 form was found to provide a better fit than either the linear or \n",
    "                logarithmic forms.\n",
    "     - AGE      (Proportion of owner-occupied units built prior to 1940)\n",
    "                Age is generally related to structure quality.\n",
    "     - DIS      (Weighted distances to five employment centres in Boston region)\n",
    "                According to traditional theories of urban land rent gradients, housing values should be higher near\n",
    "                employment centers. DIS is entered in logarithm form, the expected sign is negative. \n",
    "     - RAD      (Index of accessibility to radial highways)\n",
    "                The highway access index was calculated on a town basis. Good road access variables are needed so that \n",
    "                auto pollution variables do not capture the locational advantages of roadways. RAD captures other sorts \n",
    "                of locational advantages besides nearness to workplace. It is entered in logarithmic form, the expected \n",
    "                sign is positive.\n",
    "     - TAX      (Full value property tax rate per USD10k)\n",
    "                Measures the cost of public services in each commlurity. Nominal tax rates were corrected by local \n",
    "                assessment ratios to yield the full value tax rate for each town. Intra-town differences in the \n",
    "                assessment ratio were difficult, to obtain and thus not used. The coefficient of this variable \n",
    "                should be negative.\n",
    "     - PTRATIO  (Pupil-teacher ratio by town school district)\n",
    "                Measures public sector benefits in each town. The relation of the education pupil-teacher ratio to \n",
    "                school quality is not entirely clear, although a low ratio should imply each student receives more \n",
    "                individual attention. We expect the sign on PTRATIO to be negative.\n",
    "     - B        (Black proportion of population)\n",
    "                1000(Bk - 0.63)^2 where Bk is the proportion of blacks by town. At low to moderate levels of B, an \n",
    "                increase in B should have a negative influence on housing value if Blacks are regarded as undesirable\n",
    "                neighbors by Whites. However, market discrimination means that housing values are higher at very high \n",
    "                levels of R. One expects, therefore, a parabolic relationship between proportion Black in a neighborhood \n",
    "                and housing values. \n",
    "     - LSTAT    (Proportion of population that is of lower status)\n",
    "                Proportion of adults without some high school education and proportion of male workers classified as\n",
    "                laborers. The logarithmic specification implies that socioeconomic status distinctions mean more in the\n",
    "                upper brackets of society than in the lower classes.\n",
    "     - MEDV     Median value of owner-occupied homes in USD1000\n",
    "\n",
    "\n",
    "Source: https://www.researchgate.net/publication/4974606_Hedonic_housing_prices_and_the_demand_for_clean_air"
   ]
  },
  {
   "cell_type": "code",
   "execution_count": 12,
   "metadata": {},
   "outputs": [
    {
     "data": {
      "application/vnd.jupyter.widget-view+json": {
       "model_id": "76019ca1f5214b8195e4b425fc03e5f4",
       "version_major": 2,
       "version_minor": 0
      },
      "text/plain": [
       "HBox(children=(FloatProgress(value=0.0, description='Summarize dataset', max=23.0, style=ProgressStyle(descrip…"
      ]
     },
     "metadata": {},
     "output_type": "display_data"
    },
    {
     "name": "stdout",
     "output_type": "stream",
     "text": [
      "\n"
     ]
    },
    {
     "data": {
      "application/vnd.jupyter.widget-view+json": {
       "model_id": "316ad205354b46b582d9194ac1ce69db",
       "version_major": 2,
       "version_minor": 0
      },
      "text/plain": [
       "HBox(children=(FloatProgress(value=0.0, description='Generate report structure', max=1.0, style=ProgressStyle(…"
      ]
     },
     "metadata": {},
     "output_type": "display_data"
    },
    {
     "name": "stdout",
     "output_type": "stream",
     "text": [
      "\n"
     ]
    },
    {
     "data": {
      "application/vnd.jupyter.widget-view+json": {
       "model_id": "",
       "version_major": 2,
       "version_minor": 0
      },
      "text/plain": [
       "HBox(children=(FloatProgress(value=0.0, description='Render widgets', max=1.0, style=ProgressStyle(description…"
      ]
     },
     "metadata": {},
     "output_type": "display_data"
    },
    {
     "data": {
      "application/vnd.jupyter.widget-view+json": {
       "model_id": "940b91f6f2134eec96d86bf84ec4b33b",
       "version_major": 2,
       "version_minor": 0
      },
      "text/plain": [
       "VBox(children=(Tab(children=(Tab(children=(GridBox(children=(VBox(children=(GridspecLayout(children=(HTML(valu…"
      ]
     },
     "metadata": {},
     "output_type": "display_data"
    }
   ],
   "source": [
    "pandas_profiling.ProfileReport(df, minimal=True, explorative=True).to_widgets()"
   ]
  },
  {
   "cell_type": "code",
   "execution_count": null,
   "metadata": {},
   "outputs": [],
   "source": []
  }
 ],
 "metadata": {
  "kernelspec": {
   "display_name": "Python 3",
   "language": "python",
   "name": "python3"
  },
  "language_info": {
   "codemirror_mode": {
    "name": "ipython",
    "version": 3
   },
   "file_extension": ".py",
   "mimetype": "text/x-python",
   "name": "python",
   "nbconvert_exporter": "python",
   "pygments_lexer": "ipython3",
   "version": "3.8.3"
  }
 },
 "nbformat": 4,
 "nbformat_minor": 4
}
